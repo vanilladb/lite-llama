{
 "cells": [
  {
   "cell_type": "code",
   "execution_count": 1,
   "metadata": {},
   "outputs": [],
   "source": [
    "from pathlib import Path\n",
    "import numpy as np\n",
    "import torch\n",
    "\n",
    "WEIGHTS_DIR = Path(\"weights/\")\n",
    "\n",
    "WEIGHTS_7B_FILENAME = WEIGHTS_DIR / \"7B/consolidated.00.pth\"\n",
    "WEIGHTS_13B_FILENAMES = [WEIGHTS_DIR / \"13B/consolidated.00.pth\", WEIGHTS_DIR / \"13B/consolidated.01.pth\"]\n",
    "WEIGHTS_30B_FILENAMES = [WEIGHTS_DIR / \"30B/consolidated.00.pth\", WEIGHTS_DIR / \"30B/consolidated.01.pth\", WEIGHTS_DIR / \"30B/consolidated.02.pth\", WEIGHTS_DIR / \"30B/consolidated.03.pth\"]\n",
    "WEIGHTS_65B_FILENAMES = [WEIGHTS_DIR / \"65B/consolidated.00.pth\", WEIGHTS_DIR / \"65B/consolidated.01.pth\", WEIGHTS_DIR / \"65B/consolidated.02.pth\", WEIGHTS_DIR / \"65B/consolidated.03.pth\", WEIGHTS_DIR / \"65B/consolidated.04.pth\", WEIGHTS_DIR / \"65B/consolidated.05.pth\", WEIGHTS_DIR / \"65B/consolidated.06.pth\", WEIGHTS_DIR / \"65B/consolidated.07.pth\"]"
   ]
  },
  {
   "cell_type": "code",
   "execution_count": 2,
   "metadata": {},
   "outputs": [],
   "source": [
    "from pathlib import Path\n",
    "\n",
    "TMP_DIR = Path(\"tmp/\")\n",
    "TMP_DIR.mkdir(exist_ok=True)\n",
    "\n",
    "device='cpu'"
   ]
  },
  {
   "cell_type": "code",
   "execution_count": 4,
   "metadata": {},
   "outputs": [
    {
     "ename": "",
     "evalue": "",
     "output_type": "error",
     "traceback": [
      "\u001b[1;31mCannot execute code, session has been disposed. Please try restarting the Kernel."
     ]
    },
    {
     "ename": "",
     "evalue": "",
     "output_type": "error",
     "traceback": [
      "\u001b[1;31mThe Kernel crashed while executing code in the the current cell or a previous cell. Please review the code in the cell(s) to identify a possible cause of the failure. Click <a href='https://aka.ms/vscodeJupyterKernelCrash'>here</a> for more info. View Jupyter <a href='command:jupyter.viewOutput'>log</a> for further details."
     ]
    }
   ],
   "source": [
    "from tqdm import tqdm\n",
    "\n",
    "for filename in WEIGHTS_13B_FILENAMES:\n",
    "    state_dict = torch.load(filename, map_location=device)\n",
    "    for state in tqdm(state_dict.items()):\n",
    "        disk_tensor = TMP_DIR / state[0]\n",
    "        if disk_tensor.exists():\n",
    "            disk_tensor = torch.load(disk_tensor, map_location=device)\n",
    "            if state[0].startswith('tok_embeddings') \\\n",
    "                or state[0].endswith('.attention.wo.weight') \\\n",
    "                or state[0].endswith('.feed_forward.w2.weight'):\n",
    "                axis = 1\n",
    "            else:\n",
    "                axis = 0\n",
    "            disk_tensor[1] = torch.cat((disk_tensor[1], state[1]), dim=axis)\n",
    "        torch.save(state, disk_tensor)\n",
    "    del state_dict"
   ]
  },
  {
   "cell_type": "code",
   "execution_count": null,
   "metadata": {},
   "outputs": [],
   "source": []
  }
 ],
 "metadata": {
  "kernelspec": {
   "display_name": "Python 3",
   "language": "python",
   "name": "python3"
  },
  "language_info": {
   "codemirror_mode": {
    "name": "ipython",
    "version": 3
   },
   "file_extension": ".py",
   "mimetype": "text/x-python",
   "name": "python",
   "nbconvert_exporter": "python",
   "pygments_lexer": "ipython3",
   "version": "3.10.6"
  },
  "orig_nbformat": 4
 },
 "nbformat": 4,
 "nbformat_minor": 2
}
